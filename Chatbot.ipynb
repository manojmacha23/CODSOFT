{
 "cells": [
  {
   "cell_type": "code",
   "execution_count": null,
   "id": "2afc225b-371f-493c-b13a-b5bbf2eacf2a",
   "metadata": {},
   "outputs": [
    {
     "name": "stdout",
     "output_type": "stream",
     "text": [
      "Welcome! How can I assist you today?\n"
     ]
    },
    {
     "name": "stdin",
     "output_type": "stream",
     "text": [
      "You:  how are you\n"
     ]
    },
    {
     "name": "stdout",
     "output_type": "stream",
     "text": [
      "Bot: I'm sorry, I didn't understand that.\n"
     ]
    }
   ],
   "source": [
    "import random\n",
    "\n",
    "def chatbot_response(user_input):\n",
    "    user_input = user_input.lower()\n",
    "    \n",
    "    \n",
    "    if user_input in [\"hi\", \"hello\", \"hey\"]:\n",
    "        return \"Hello! How can I assist you today?\"\n",
    "    elif user_input in [\"how are you?\", \"how are you doing?\"]:\n",
    "        return \"I'm just a bot, but thank you for asking!\"\n",
    "    elif \"your name\" in user_input:\n",
    "        return \"I'm a chatbot, you can call me whatever you like.\"\n",
    "    elif \"bye\" in user_input:\n",
    "        return \"Goodbye! Have a great day!\"\n",
    "    else:\n",
    "        return \"I'm sorry, I didn't understand that.\"\n",
    "\n",
    "def main():\n",
    "    print(\"Welcome! How can I assist you today?\")\n",
    "    while True:\n",
    "        user_input = input(\"You: \")\n",
    "        if user_input.lower() == 'exit':\n",
    "            print(\"Goodbye! Have a great day!\")\n",
    "            break\n",
    "        else:\n",
    "            response = chatbot_response(user_input)\n",
    "            print(\"Bot:\", response)\n",
    "\n",
    "if __name__ == \"__main__\":\n",
    "    main()\n"
   ]
  },
  {
   "cell_type": "code",
   "execution_count": null,
   "id": "47692fdf-eb03-4d87-a53d-9069eb211e14",
   "metadata": {},
   "outputs": [],
   "source": []
  }
 ],
 "metadata": {
  "kernelspec": {
   "display_name": "Python 3 (ipykernel)",
   "language": "python",
   "name": "python3"
  },
  "language_info": {
   "codemirror_mode": {
    "name": "ipython",
    "version": 3
   },
   "file_extension": ".py",
   "mimetype": "text/x-python",
   "name": "python",
   "nbconvert_exporter": "python",
   "pygments_lexer": "ipython3",
   "version": "3.11.7"
  }
 },
 "nbformat": 4,
 "nbformat_minor": 5
}
