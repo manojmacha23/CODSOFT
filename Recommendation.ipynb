{
 "cells": [
  {
   "cell_type": "code",
   "execution_count": 4,
   "id": "763597f6-adc0-4840-9330-ca85a4d9140b",
   "metadata": {},
   "outputs": [
    {
     "name": "stdout",
     "output_type": "stream",
     "text": [
      "Recommendations for David:\n",
      "Star Wars: 6.051459149490487\n",
      "The Shawshank Redemption: 1.1999999999999997\n",
      "Pulp Fiction: 0.8999999999999998\n"
     ]
    }
   ],
   "source": [
    "class SimpleRecommendationSystem:\n",
    "    def __init__(self, ratings):\n",
    "        self.ratings = ratings\n",
    "\n",
    "    def cosine_similarity(self, user1, user2):\n",
    "        common_items = set(self.ratings[user1]) & set(self.ratings[user2])\n",
    "        if len(common_items) == 0:\n",
    "            return 0\n",
    "\n",
    "        dot_product = sum(self.ratings[user1][item] * self.ratings[user2][item] for item in common_items)\n",
    "        magnitude_user1 = sum(self.ratings[user1][item] ** 2 for item in self.ratings[user1])\n",
    "        magnitude_user2 = sum(self.ratings[user2][item] ** 2 for item in self.ratings[user2])\n",
    "        similarity = dot_product / ((magnitude_user1 ** 0.5) * (magnitude_user2 ** 0.5))\n",
    "        return similarity\n",
    "\n",
    "    def get_neighbors(self, user, k=5):\n",
    "        similarities = [(other_user, self.cosine_similarity(user, other_user)) for other_user in self.ratings if other_user != user]\n",
    "        similarities.sort(key=lambda x: x[1], reverse=True)\n",
    "        return similarities[:k]\n",
    "\n",
    "    def recommend_items(self, user):\n",
    "        recommendations = {}\n",
    "        neighbors = self.get_neighbors(user)\n",
    "        user_ratings = self.ratings[user]\n",
    "\n",
    "        for neighbor, similarity in neighbors:\n",
    "            neighbor_ratings = self.ratings[neighbor]\n",
    "            for item in neighbor_ratings:\n",
    "                if item not in user_ratings or user_ratings[item] == 0:\n",
    "                    if item not in recommendations:\n",
    "                        recommendations[item] = 0\n",
    "                    recommendations[item] += neighbor_ratings[item] * similarity\n",
    "\n",
    "        recommendations = sorted(recommendations.items(), key=lambda x: x[1], reverse=True)\n",
    "        return recommendations\n",
    "\n",
    "# Example usage:\n",
    "ratings = {\n",
    "    'Alice': {'Star Wars': 5, 'Inception': 4, 'The Matrix': 3},\n",
    "    'Bob': {'Star Wars': 5, 'The Matrix': 4, 'Inception': 2},\n",
    "    'Charlie': {'The Matrix': 5, 'Inception': 4, 'The Godfather': 3},\n",
    "    'David': {'The Matrix': 5, 'Inception': 4, 'The Godfather': 3},\n",
    "    'Eve': {'The Godfather': 5, 'The Shawshank Redemption': 4, 'Pulp Fiction': 3}\n",
    "}\n",
    "\n",
    "rs = SimpleRecommendationSystem(ratings)\n",
    "user = 'David'\n",
    "recommendations = rs.recommend_items(user)\n",
    "print(f\"Recommendations for {user}:\")\n",
    "for item, rating in recommendations:\n",
    "    print(f\"{item}: {rating}\")\n"
   ]
  },
  {
   "cell_type": "code",
   "execution_count": null,
   "id": "44de05b7-3b0f-4250-9924-a85ab9d3d1af",
   "metadata": {},
   "outputs": [],
   "source": []
  }
 ],
 "metadata": {
  "kernelspec": {
   "display_name": "Python 3 (ipykernel)",
   "language": "python",
   "name": "python3"
  },
  "language_info": {
   "codemirror_mode": {
    "name": "ipython",
    "version": 3
   },
   "file_extension": ".py",
   "mimetype": "text/x-python",
   "name": "python",
   "nbconvert_exporter": "python",
   "pygments_lexer": "ipython3",
   "version": "3.11.7"
  }
 },
 "nbformat": 4,
 "nbformat_minor": 5
}
