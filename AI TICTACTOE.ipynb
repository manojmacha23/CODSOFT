{
 "cells": [
  {
   "cell_type": "code",
   "execution_count": 2,
   "id": "73470b26-bee0-4257-82de-f8d1db2bc1d3",
   "metadata": {},
   "outputs": [
    {
     "name": "stdout",
     "output_type": "stream",
     "text": [
      "Welcome to Tic-Tac-Toe!\n",
      "Here is the board:\n",
      "|   |   |   |\n",
      "|-----------|\n",
      "|   |   |   |\n",
      "|-----------|\n",
      "|   |   |   |\n"
     ]
    },
    {
     "name": "stdin",
     "output_type": "stream",
     "text": [
      "Enter your move (1-9):  3\n"
     ]
    },
    {
     "name": "stdout",
     "output_type": "stream",
     "text": [
      "|   |   | X |\n",
      "|-----------|\n",
      "|   |   |   |\n",
      "|-----------|\n",
      "|   |   |   |\n",
      "AI's move:\n",
      "|   |   | X |\n",
      "|-----------|\n",
      "|   | O |   |\n",
      "|-----------|\n",
      "|   |   |   |\n"
     ]
    },
    {
     "name": "stdin",
     "output_type": "stream",
     "text": [
      "Enter your move (1-9):  6\n"
     ]
    },
    {
     "name": "stdout",
     "output_type": "stream",
     "text": [
      "|   |   | X |\n",
      "|-----------|\n",
      "|   | O | X |\n",
      "|-----------|\n",
      "|   |   |   |\n",
      "AI's move:\n",
      "|   |   | X |\n",
      "|-----------|\n",
      "|   | O | X |\n",
      "|-----------|\n",
      "|   |   | O |\n"
     ]
    },
    {
     "name": "stdin",
     "output_type": "stream",
     "text": [
      "Enter your move (1-9):  1\n"
     ]
    },
    {
     "name": "stdout",
     "output_type": "stream",
     "text": [
      "| X |   | X |\n",
      "|-----------|\n",
      "|   | O | X |\n",
      "|-----------|\n",
      "|   |   | O |\n",
      "AI's move:\n",
      "| X | O | X |\n",
      "|-----------|\n",
      "|   | O | X |\n",
      "|-----------|\n",
      "|   |   | O |\n"
     ]
    },
    {
     "name": "stdin",
     "output_type": "stream",
     "text": [
      "Enter your move (1-9):  4\n"
     ]
    },
    {
     "name": "stdout",
     "output_type": "stream",
     "text": [
      "| X | O | X |\n",
      "|-----------|\n",
      "| X | O | X |\n",
      "|-----------|\n",
      "|   |   | O |\n",
      "AI's move:\n",
      "| X | O | X |\n",
      "|-----------|\n",
      "| X | O | X |\n",
      "|-----------|\n",
      "|   | O | O |\n",
      "AI wins!\n"
     ]
    }
   ],
   "source": [
    "import random\n",
    "\n",
    "class TicTacToe:\n",
    "    def __init__(self):\n",
    "        self.board = [' ']*9\n",
    "\n",
    "    def display_board(self):\n",
    "        print(f\"| {self.board[0]} | {self.board[1]} | {self.board[2]} |\")\n",
    "        print(\"|-----------|\")\n",
    "        print(f\"| {self.board[3]} | {self.board[4]} | {self.board[5]} |\")\n",
    "        print(\"|-----------|\")\n",
    "        print(f\"| {self.board[6]} | {self.board[7]} | {self.board[8]} |\")\n",
    "\n",
    "    def check_winner(self, player):\n",
    "        win_combinations = [\n",
    "            [0, 1, 2], [3, 4, 5], [6, 7, 8],  # Rows\n",
    "            [0, 3, 6], [1, 4, 7], [2, 5, 8],  # Columns\n",
    "            [0, 4, 8], [2, 4, 6]              # Diagonals\n",
    "        ]\n",
    "        for combo in win_combinations:\n",
    "            if all(self.board[i] == player for i in combo):\n",
    "                return True\n",
    "        return False\n",
    "\n",
    "    def available_moves(self):\n",
    "        return [i for i, v in enumerate(self.board) if v == ' ']\n",
    "\n",
    "    def minimax(self, depth, maximizing_player):\n",
    "        if self.check_winner('X'):\n",
    "            return -10 + depth\n",
    "        elif self.check_winner('O'):\n",
    "            return 10 - depth\n",
    "        elif len(self.available_moves()) == 0:\n",
    "            return 0\n",
    "\n",
    "        if maximizing_player:\n",
    "            max_eval = float('-inf')\n",
    "            for move in self.available_moves():\n",
    "                self.board[move] = 'O'\n",
    "                eval = self.minimax(depth + 1, False)\n",
    "                self.board[move] = ' '\n",
    "                max_eval = max(max_eval, eval)\n",
    "            return max_eval\n",
    "        else:\n",
    "            min_eval = float('inf')\n",
    "            for move in self.available_moves():\n",
    "                self.board[move] = 'X'\n",
    "                eval = self.minimax(depth + 1, True)\n",
    "                self.board[move] = ' '\n",
    "                min_eval = min(min_eval, eval)\n",
    "            return min_eval\n",
    "\n",
    "    def ai_move(self):\n",
    "        best_score = float('-inf')\n",
    "        best_move = None\n",
    "        for move in self.available_moves():\n",
    "            self.board[move] = 'O'\n",
    "            score = self.minimax(0, False)\n",
    "            self.board[move] = ' '\n",
    "            if score > best_score:\n",
    "                best_score = score\n",
    "                best_move = move\n",
    "        self.board[best_move] = 'O'\n",
    "\n",
    "    def human_move(self):\n",
    "        while True:\n",
    "            move = int(input(\"Enter your move (1-9): \")) - 1\n",
    "            if move in self.available_moves():\n",
    "                self.board[move] = 'X'\n",
    "                break\n",
    "            else:\n",
    "                print(\"Invalid move. Try again.\")\n",
    "\n",
    "    def play(self):\n",
    "        print(\"Welcome to Tic-Tac-Toe!\")\n",
    "        print(\"Here is the board:\")\n",
    "        self.display_board()\n",
    "        while True:\n",
    "            self.human_move()\n",
    "            self.display_board()\n",
    "            if self.check_winner('X'):\n",
    "                print(\"You win!\")\n",
    "                break\n",
    "            elif len(self.available_moves()) == 0:\n",
    "                print(\"It's a draw!\")\n",
    "                break\n",
    "            self.ai_move()\n",
    "            print(\"AI's move:\")\n",
    "            self.display_board()\n",
    "            if self.check_winner('O'):\n",
    "                print(\"AI wins!\")\n",
    "                break\n",
    "            elif len(self.available_moves()) == 0:\n",
    "                print(\"It's a draw!\")\n",
    "                break\n",
    "\n",
    "if __name__ == \"__main__\":\n",
    "    game = TicTacToe()\n",
    "    game.play()\n"
   ]
  },
  {
   "cell_type": "code",
   "execution_count": null,
   "id": "f2bbfa4a-a408-44ab-b91b-b6110774ee68",
   "metadata": {},
   "outputs": [],
   "source": []
  }
 ],
 "metadata": {
  "kernelspec": {
   "display_name": "Python 3 (ipykernel)",
   "language": "python",
   "name": "python3"
  },
  "language_info": {
   "codemirror_mode": {
    "name": "ipython",
    "version": 3
   },
   "file_extension": ".py",
   "mimetype": "text/x-python",
   "name": "python",
   "nbconvert_exporter": "python",
   "pygments_lexer": "ipython3",
   "version": "3.11.7"
  }
 },
 "nbformat": 4,
 "nbformat_minor": 5
}
